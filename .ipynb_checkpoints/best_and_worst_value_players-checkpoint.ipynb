{
 "cells": [
  {
   "cell_type": "code",
   "execution_count": 3,
   "metadata": {},
   "outputs": [],
   "source": [
    "import requests\n",
    "import json\n",
    "import pandas as pd\n",
    "import seaborn as sns\n",
    "import matplotlib.pyplot as plt\n",
    "import numpy as np\n"
   ]
  },
  {
   "cell_type": "code",
   "execution_count": 4,
   "metadata": {},
   "outputs": [],
   "source": [
    "\n",
    "\n",
    "# Make a get request to get the latest position of the international space station from the opennotify api.\n",
    "response = requests.get(\"https://fantasy.premierleague.com/drf/bootstrap-static\")\n",
    "data = response.json()\n",
    "\n",
    "# Print the status code of the response.\n",
    "#print(response.content)\n",
    "\n",
    "#Extract json to pandas dataframe\n",
    "elements = data['elements']\n",
    "ds = pd.DataFrame(elements)\n",
    "\n",
    "#Converts cost into millions\n",
    "ds['now_cost'] = ds['now_cost'] /10\n"
   ]
  },
  {
   "cell_type": "code",
   "execution_count": 5,
   "metadata": {},
   "outputs": [],
   "source": [
    "#Creation of positional datasets\n",
    "\n",
    "is_gk = ds['element_type']==1\n",
    "is_def = ds['element_type']==2\n",
    "is_mid = ds['element_type']==3\n",
    "is_att = ds['element_type']==4\n",
    "\n",
    "gks = ds[is_gk]\n",
    "defs = ds[is_def]\n",
    "mids = ds[is_mid]\n",
    "atts = ds[is_att]\n"
   ]
  },
  {
   "cell_type": "code",
   "execution_count": 6,
   "metadata": {},
   "outputs": [
    {
     "name": "stdout",
     "output_type": "stream",
     "text": [
      "\n",
      "Best Value Gks\n",
      "\n",
      "             second_name  now_cost      delta\n",
      "113            Etheridge       4.6  69.595047\n",
      "514            Fabianski       4.8  52.178065\n",
      "257                Lössl       4.4  49.012029\n",
      "566  dos Santos Patrício       4.5  48.803538\n",
      "507               Foster       4.5  48.803538\n",
      "107                 Hart       4.4  48.012029\n",
      "421             McCarthy       4.4  43.012029\n",
      "56                  Ryan       4.4  42.012029\n",
      "30               Begovic       4.4  40.012029\n",
      "169            Hennessey       4.5  38.803538\n",
      "\n",
      "Worst Value Gks\n",
      "\n",
      "    second_name  now_cost      delta\n",
      "141    Courtois       5.5 -67.281373\n",
      "364      Romero       5.0 -46.238918\n",
      "315      Karius       4.9 -42.030426\n",
      "389       Grant       4.9 -42.030426\n",
      "314    Mignolet       4.8 -37.821935\n",
      "86         Pope       4.8 -37.821935\n",
      "341       Bravo       4.8 -37.821935\n",
      "142   Caballero       4.7 -33.613444\n",
      "454        Vorm       4.8 -32.821935\n",
      "85       Heaton       4.8 -25.821935\n"
     ]
    },
    {
     "name": "stderr",
     "output_type": "stream",
     "text": [
      "C:\\Users\\domin\\Anaconda3\\lib\\site-packages\\ipykernel_launcher.py:5: SettingWithCopyWarning: \n",
      "A value is trying to be set on a copy of a slice from a DataFrame.\n",
      "Try using .loc[row_indexer,col_indexer] = value instead\n",
      "\n",
      "See the caveats in the documentation: http://pandas.pydata.org/pandas-docs/stable/indexing.html#indexing-view-versus-copy\n",
      "  \"\"\"\n"
     ]
    }
   ],
   "source": [
    "# Gks summary\n",
    "z = np.polyfit(gks['now_cost'], gks['total_points'], 1)\n",
    "p = np.poly1d(z)\n",
    "\n",
    "gks['delta'] = gks['total_points'] - p(gks['now_cost'])\n",
    "print('\\nBest Value Gks\\n')\n",
    "print(gks[['second_name','now_cost', 'delta']].sort_values(by=['delta'], ascending=False).head(n=10))\n",
    "print('\\nWorst Value Gks\\n')\n",
    "print(gks[['second_name','now_cost', 'delta']].sort_values(by=['delta'], ascending=True).head(n=10))"
   ]
  },
  {
   "cell_type": "code",
   "execution_count": 7,
   "metadata": {},
   "outputs": [
    {
     "name": "stdout",
     "output_type": "stream",
     "text": [
      "\n",
      "Best Value Defs\n",
      "\n",
      "              second_name  now_cost      delta\n",
      "179           Wan-Bissaka       4.5  52.127196\n",
      "292       Barbosa Pereira       5.3  50.042933\n",
      "321      Alexander-Arnold       5.2  49.678466\n",
      "116                 Bamba       4.5  49.127196\n",
      "550               Doherty       5.2  46.678466\n",
      "58                  Duffy       4.6  46.491663\n",
      "146  Luiz Moreira Marinho       5.9  43.229735\n",
      "323             Robertson       6.7  41.145472\n",
      "222                 Digne       5.3  41.042933\n",
      "261             Jorgensen       4.4  39.762729\n",
      "\n",
      "Worst Value Defs\n",
      "\n",
      "             second_name  now_cost      delta\n",
      "369             Valencia       6.4 -58.947929\n",
      "147                Moses       5.5 -49.228133\n",
      "2              Koscielny       5.4 -41.592600\n",
      "151  Palmieri dos Santos       5.2 -41.321534\n",
      "375       Dalot Teixeira       5.3 -40.957067\n",
      "144               Cahill       5.1 -39.686001\n",
      "150           Zappacosta       5.1 -38.686001\n",
      "549              Douglas       5.0 -38.050468\n",
      "149          Christensen       5.0 -38.050468\n",
      "371                Blind       5.0 -38.050468\n"
     ]
    },
    {
     "name": "stderr",
     "output_type": "stream",
     "text": [
      "C:\\Users\\domin\\Anaconda3\\lib\\site-packages\\ipykernel_launcher.py:5: SettingWithCopyWarning: \n",
      "A value is trying to be set on a copy of a slice from a DataFrame.\n",
      "Try using .loc[row_indexer,col_indexer] = value instead\n",
      "\n",
      "See the caveats in the documentation: http://pandas.pydata.org/pandas-docs/stable/indexing.html#indexing-view-versus-copy\n",
      "  \"\"\"\n"
     ]
    }
   ],
   "source": [
    "# Def summary\n",
    "z = np.polyfit(defs['now_cost'], defs['total_points'], 1)\n",
    "p = np.poly1d(z)\n",
    "\n",
    "defs['delta'] = defs['total_points'] - p(defs['now_cost'])\n",
    "print('\\nBest Value Defs\\n')\n",
    "print(defs[['second_name','now_cost', 'delta']].sort_values(by=['delta'], ascending=False).head(n=10))\n",
    "print('\\nWorst Value Defs\\n')\n",
    "print(defs[['second_name','now_cost', 'delta']].sort_values(by=['delta'], ascending=True).head(n=10))"
   ]
  },
  {
   "cell_type": "code",
   "execution_count": 8,
   "metadata": {},
   "outputs": [
    {
     "name": "stdout",
     "output_type": "stream",
     "text": [
      "\n",
      "Best Value Mids\n",
      "\n",
      "       second_name  now_cost      delta\n",
      "45          Fraser       6.1  65.858908\n",
      "500        Pereyra       6.3  51.703344\n",
      "156          Kanté       5.0  47.214507\n",
      "47          Brooks       5.1  46.636726\n",
      "137       Camarasa       4.6  46.525635\n",
      "180       McArthur       4.8  44.370071\n",
      "537  Pereira Gomes       7.3  43.925526\n",
      "67           March       5.0  42.214507\n",
      "219     de Andrade       6.9  41.236653\n",
      "183    Milivojevic       6.1  40.858908\n",
      "\n",
      "Worst Value Mids\n",
      "\n",
      "            second_name  now_cost      delta\n",
      "353           De Bruyne       9.7 -84.941238\n",
      "376             Sánchez      10.0 -73.674583\n",
      "324  Oxlade-Chamberlain       6.4 -49.874438\n",
      "527             Lanzini       6.4 -49.874438\n",
      "326             Lallana       6.9 -45.763347\n",
      "212            Klaassen       6.0 -43.563311\n",
      "153            Fàbregas       6.2 -40.718874\n",
      "206             Bolasie       5.8 -40.407747\n",
      "80          Jahanbakhsh       6.7 -39.607783\n",
      "220            Mirallas       5.5 -35.674402\n"
     ]
    },
    {
     "name": "stderr",
     "output_type": "stream",
     "text": [
      "C:\\Users\\domin\\Anaconda3\\lib\\site-packages\\ipykernel_launcher.py:5: SettingWithCopyWarning: \n",
      "A value is trying to be set on a copy of a slice from a DataFrame.\n",
      "Try using .loc[row_indexer,col_indexer] = value instead\n",
      "\n",
      "See the caveats in the documentation: http://pandas.pydata.org/pandas-docs/stable/indexing.html#indexing-view-versus-copy\n",
      "  \"\"\"\n"
     ]
    }
   ],
   "source": [
    "# Mid summary\n",
    "z = np.polyfit(mids['now_cost'], mids['total_points'], 1)\n",
    "p = np.poly1d(z)\n",
    "\n",
    "mids['delta'] = mids['total_points'] - p(mids['now_cost'])\n",
    "print('\\nBest Value Mids\\n')\n",
    "print(mids[['second_name','now_cost', 'delta']].sort_values(by=['delta'], ascending=False).head(n=10))\n",
    "print('\\nWorst Value Mids\\n')\n",
    "print(mids[['second_name','now_cost', 'delta']].sort_values(by=['delta'], ascending=True).head(n=10))"
   ]
  },
  {
   "cell_type": "code",
   "execution_count": 9,
   "metadata": {
    "scrolled": true
   },
   "outputs": [
    {
     "name": "stdout",
     "output_type": "stream",
     "text": [
      "\n",
      "Best Value Atts\n",
      "\n",
      "    second_name  now_cost      delta\n",
      "48       Wilson       6.5  62.496264\n",
      "562     Jiménez       6.4  55.052826\n",
      "246    Mitrovic       6.6  44.939703\n",
      "420        Ings       5.5  41.061877\n",
      "71       Murray       6.3  36.609387\n",
      "415      Rondón       5.7  32.948755\n",
      "504      Deeney       5.9  32.835632\n",
      "50         King       6.3  31.609387\n",
      "386    Rashford       7.5  27.930651\n",
      "530  Arnautovic       6.9  27.270019\n",
      "\n",
      "Worst Value Atts\n",
      "\n",
      "    second_name  now_cost      delta\n",
      "361    de Jesus      10.1 -42.539943\n",
      "387      Lukaku      10.7 -35.879311\n",
      "409       Gayle       6.0 -34.720929\n",
      "185     Benteke       6.3 -30.390613\n",
      "443    Carrillo       5.5 -26.938123\n",
      "164      Morata       8.4 -26.078401\n",
      "166     Abraham       5.4 -25.381561\n",
      "221     Ramírez       5.4 -25.381561\n",
      "51        Defoe       5.6 -24.494684\n",
      "473    Llorente       5.6 -22.494684\n"
     ]
    },
    {
     "name": "stderr",
     "output_type": "stream",
     "text": [
      "C:\\Users\\domin\\Anaconda3\\lib\\site-packages\\ipykernel_launcher.py:5: SettingWithCopyWarning: \n",
      "A value is trying to be set on a copy of a slice from a DataFrame.\n",
      "Try using .loc[row_indexer,col_indexer] = value instead\n",
      "\n",
      "See the caveats in the documentation: http://pandas.pydata.org/pandas-docs/stable/indexing.html#indexing-view-versus-copy\n",
      "  \"\"\"\n"
     ]
    }
   ],
   "source": [
    "# Att Summary\n",
    "z = np.polyfit(atts['now_cost'], atts['total_points'], 1)\n",
    "p = np.poly1d(z)\n",
    "\n",
    "atts['delta'] = atts['total_points'] - p(atts['now_cost'])\n",
    "print('\\nBest Value Atts\\n')\n",
    "print(atts[['second_name','now_cost', 'delta']].sort_values(by=['delta'], ascending=False).head(n=10))\n",
    "print('\\nWorst Value Atts\\n')\n",
    "print(atts[['second_name','now_cost', 'delta']].sort_values(by=['delta'], ascending=True).head(n=10))"
   ]
  },
  {
   "cell_type": "code",
   "execution_count": null,
   "metadata": {},
   "outputs": [],
   "source": []
  },
  {
   "cell_type": "code",
   "execution_count": null,
   "metadata": {},
   "outputs": [],
   "source": []
  }
 ],
 "metadata": {
  "kernelspec": {
   "display_name": "Python 3",
   "language": "python",
   "name": "python3"
  },
  "language_info": {
   "codemirror_mode": {
    "name": "ipython",
    "version": 3
   },
   "file_extension": ".py",
   "mimetype": "text/x-python",
   "name": "python",
   "nbconvert_exporter": "python",
   "pygments_lexer": "ipython3",
   "version": "3.6.5"
  }
 },
 "nbformat": 4,
 "nbformat_minor": 2
}
